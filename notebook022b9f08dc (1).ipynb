{
 "cells": [
  {
   "cell_type": "code",
   "execution_count": 1,
   "id": "0fc9b7ab",
   "metadata": {
    "_cell_guid": "b1076dfc-b9ad-4769-8c92-a6c4dae69d19",
    "_uuid": "8f2839f25d086af736a60e9eeb907d3b93b6e0e5",
    "execution": {
     "iopub.execute_input": "2025-09-05T13:27:54.875876Z",
     "iopub.status.busy": "2025-09-05T13:27:54.875489Z",
     "iopub.status.idle": "2025-09-05T13:27:56.957231Z",
     "shell.execute_reply": "2025-09-05T13:27:56.956126Z"
    },
    "papermill": {
     "duration": 2.088222,
     "end_time": "2025-09-05T13:27:56.958755",
     "exception": false,
     "start_time": "2025-09-05T13:27:54.870533",
     "status": "completed"
    },
    "tags": []
   },
   "outputs": [
    {
     "name": "stdout",
     "output_type": "stream",
     "text": [
      "/kaggle/input/playground-series-s5e8/sample_submission.csv\n",
      "/kaggle/input/playground-series-s5e8/train.csv\n",
      "/kaggle/input/playground-series-s5e8/test.csv\n"
     ]
    }
   ],
   "source": [
    "# This Python 3 environment comes with many helpful analytics libraries installed\n",
    "# It is defined by the kaggle/python Docker image: https://github.com/kaggle/docker-python\n",
    "# For example, here's several helpful packages to load\n",
    "\n",
    "import numpy as np # linear algebra\n",
    "import pandas as pd # data processing, CSV file I/O (e.g. pd.read_csv)\n",
    "\n",
    "# Input data files are available in the read-only \"../input/\" directory\n",
    "# For example, running this (by clicking run or pressing Shift+Enter) will list all files under the input directory\n",
    "\n",
    "import os\n",
    "for dirname, _, filenames in os.walk('/kaggle/input'):\n",
    "    for filename in filenames:\n",
    "        print(os.path.join(dirname, filename))\n",
    "\n",
    "# You can write up to 20GB to the current directory (/kaggle/working/) that gets preserved as output when you create a version using \"Save & Run All\" \n",
    "# You can also write temporary files to /kaggle/temp/, but they won't be saved outside of the current session"
   ]
  },
  {
   "cell_type": "code",
   "execution_count": 2,
   "id": "6a574a63",
   "metadata": {
    "execution": {
     "iopub.execute_input": "2025-09-05T13:27:56.967256Z",
     "iopub.status.busy": "2025-09-05T13:27:56.966793Z",
     "iopub.status.idle": "2025-09-05T13:28:00.389996Z",
     "shell.execute_reply": "2025-09-05T13:28:00.389017Z"
    },
    "papermill": {
     "duration": 3.429553,
     "end_time": "2025-09-05T13:28:00.391795",
     "exception": false,
     "start_time": "2025-09-05T13:27:56.962242",
     "status": "completed"
    },
    "tags": []
   },
   "outputs": [
    {
     "data": {
      "text/html": [
       "<div>\n",
       "<style scoped>\n",
       "    .dataframe tbody tr th:only-of-type {\n",
       "        vertical-align: middle;\n",
       "    }\n",
       "\n",
       "    .dataframe tbody tr th {\n",
       "        vertical-align: top;\n",
       "    }\n",
       "\n",
       "    .dataframe thead th {\n",
       "        text-align: right;\n",
       "    }\n",
       "</style>\n",
       "<table border=\"1\" class=\"dataframe\">\n",
       "  <thead>\n",
       "    <tr style=\"text-align: right;\">\n",
       "      <th></th>\n",
       "      <th>id</th>\n",
       "      <th>age</th>\n",
       "      <th>job</th>\n",
       "      <th>marital</th>\n",
       "      <th>education</th>\n",
       "      <th>default</th>\n",
       "      <th>balance</th>\n",
       "      <th>housing</th>\n",
       "      <th>loan</th>\n",
       "      <th>contact</th>\n",
       "      <th>day</th>\n",
       "      <th>month</th>\n",
       "      <th>duration</th>\n",
       "      <th>campaign</th>\n",
       "      <th>pdays</th>\n",
       "      <th>previous</th>\n",
       "      <th>poutcome</th>\n",
       "      <th>y</th>\n",
       "    </tr>\n",
       "  </thead>\n",
       "  <tbody>\n",
       "    <tr>\n",
       "      <th>0</th>\n",
       "      <td>0</td>\n",
       "      <td>42</td>\n",
       "      <td>technician</td>\n",
       "      <td>married</td>\n",
       "      <td>secondary</td>\n",
       "      <td>no</td>\n",
       "      <td>7</td>\n",
       "      <td>no</td>\n",
       "      <td>no</td>\n",
       "      <td>cellular</td>\n",
       "      <td>25</td>\n",
       "      <td>aug</td>\n",
       "      <td>117</td>\n",
       "      <td>3</td>\n",
       "      <td>-1</td>\n",
       "      <td>0</td>\n",
       "      <td>unknown</td>\n",
       "      <td>0</td>\n",
       "    </tr>\n",
       "    <tr>\n",
       "      <th>1</th>\n",
       "      <td>1</td>\n",
       "      <td>38</td>\n",
       "      <td>blue-collar</td>\n",
       "      <td>married</td>\n",
       "      <td>secondary</td>\n",
       "      <td>no</td>\n",
       "      <td>514</td>\n",
       "      <td>no</td>\n",
       "      <td>no</td>\n",
       "      <td>unknown</td>\n",
       "      <td>18</td>\n",
       "      <td>jun</td>\n",
       "      <td>185</td>\n",
       "      <td>1</td>\n",
       "      <td>-1</td>\n",
       "      <td>0</td>\n",
       "      <td>unknown</td>\n",
       "      <td>0</td>\n",
       "    </tr>\n",
       "    <tr>\n",
       "      <th>2</th>\n",
       "      <td>2</td>\n",
       "      <td>36</td>\n",
       "      <td>blue-collar</td>\n",
       "      <td>married</td>\n",
       "      <td>secondary</td>\n",
       "      <td>no</td>\n",
       "      <td>602</td>\n",
       "      <td>yes</td>\n",
       "      <td>no</td>\n",
       "      <td>unknown</td>\n",
       "      <td>14</td>\n",
       "      <td>may</td>\n",
       "      <td>111</td>\n",
       "      <td>2</td>\n",
       "      <td>-1</td>\n",
       "      <td>0</td>\n",
       "      <td>unknown</td>\n",
       "      <td>0</td>\n",
       "    </tr>\n",
       "    <tr>\n",
       "      <th>3</th>\n",
       "      <td>3</td>\n",
       "      <td>27</td>\n",
       "      <td>student</td>\n",
       "      <td>single</td>\n",
       "      <td>secondary</td>\n",
       "      <td>no</td>\n",
       "      <td>34</td>\n",
       "      <td>yes</td>\n",
       "      <td>no</td>\n",
       "      <td>unknown</td>\n",
       "      <td>28</td>\n",
       "      <td>may</td>\n",
       "      <td>10</td>\n",
       "      <td>2</td>\n",
       "      <td>-1</td>\n",
       "      <td>0</td>\n",
       "      <td>unknown</td>\n",
       "      <td>0</td>\n",
       "    </tr>\n",
       "    <tr>\n",
       "      <th>4</th>\n",
       "      <td>4</td>\n",
       "      <td>26</td>\n",
       "      <td>technician</td>\n",
       "      <td>married</td>\n",
       "      <td>secondary</td>\n",
       "      <td>no</td>\n",
       "      <td>889</td>\n",
       "      <td>yes</td>\n",
       "      <td>no</td>\n",
       "      <td>cellular</td>\n",
       "      <td>3</td>\n",
       "      <td>feb</td>\n",
       "      <td>902</td>\n",
       "      <td>1</td>\n",
       "      <td>-1</td>\n",
       "      <td>0</td>\n",
       "      <td>unknown</td>\n",
       "      <td>1</td>\n",
       "    </tr>\n",
       "  </tbody>\n",
       "</table>\n",
       "</div>"
      ],
      "text/plain": [
       "   id  age          job  marital  education default  balance housing loan  \\\n",
       "0   0   42   technician  married  secondary      no        7      no   no   \n",
       "1   1   38  blue-collar  married  secondary      no      514      no   no   \n",
       "2   2   36  blue-collar  married  secondary      no      602     yes   no   \n",
       "3   3   27      student   single  secondary      no       34     yes   no   \n",
       "4   4   26   technician  married  secondary      no      889     yes   no   \n",
       "\n",
       "    contact  day month  duration  campaign  pdays  previous poutcome  y  \n",
       "0  cellular   25   aug       117         3     -1         0  unknown  0  \n",
       "1   unknown   18   jun       185         1     -1         0  unknown  0  \n",
       "2   unknown   14   may       111         2     -1         0  unknown  0  \n",
       "3   unknown   28   may        10         2     -1         0  unknown  0  \n",
       "4  cellular    3   feb       902         1     -1         0  unknown  1  "
      ]
     },
     "execution_count": 2,
     "metadata": {},
     "output_type": "execute_result"
    }
   ],
   "source": [
    "import pandas as pd\n",
    "import numpy as np\n",
    "\n",
    "# Load datasets\n",
    "train = pd.read_csv(\"/kaggle/input/playground-series-s5e8/train.csv\")\n",
    "test = pd.read_csv(\"/kaggle/input/playground-series-s5e8/test.csv\")\n",
    "sample_submission = pd.read_csv(\"/kaggle/input/playground-series-s5e8/sample_submission.csv\")\n",
    "\n",
    "train.head()"
   ]
  },
  {
   "cell_type": "code",
   "execution_count": 3,
   "id": "135d5f8a",
   "metadata": {
    "execution": {
     "iopub.execute_input": "2025-09-05T13:28:00.399977Z",
     "iopub.status.busy": "2025-09-05T13:28:00.399657Z",
     "iopub.status.idle": "2025-09-05T13:28:01.093212Z",
     "shell.execute_reply": "2025-09-05T13:28:01.092094Z"
    },
    "papermill": {
     "duration": 0.699482,
     "end_time": "2025-09-05T13:28:01.094790",
     "exception": false,
     "start_time": "2025-09-05T13:28:00.395308",
     "status": "completed"
    },
    "tags": []
   },
   "outputs": [
    {
     "name": "stdout",
     "output_type": "stream",
     "text": [
      "<class 'pandas.core.frame.DataFrame'>\n",
      "RangeIndex: 750000 entries, 0 to 749999\n",
      "Data columns (total 18 columns):\n",
      " #   Column     Non-Null Count   Dtype \n",
      "---  ------     --------------   ----- \n",
      " 0   id         750000 non-null  int64 \n",
      " 1   age        750000 non-null  int64 \n",
      " 2   job        750000 non-null  object\n",
      " 3   marital    750000 non-null  object\n",
      " 4   education  750000 non-null  object\n",
      " 5   default    750000 non-null  object\n",
      " 6   balance    750000 non-null  int64 \n",
      " 7   housing    750000 non-null  object\n",
      " 8   loan       750000 non-null  object\n",
      " 9   contact    750000 non-null  object\n",
      " 10  day        750000 non-null  int64 \n",
      " 11  month      750000 non-null  object\n",
      " 12  duration   750000 non-null  int64 \n",
      " 13  campaign   750000 non-null  int64 \n",
      " 14  pdays      750000 non-null  int64 \n",
      " 15  previous   750000 non-null  int64 \n",
      " 16  poutcome   750000 non-null  object\n",
      " 17  y          750000 non-null  int64 \n",
      "dtypes: int64(9), object(9)\n",
      "memory usage: 103.0+ MB\n"
     ]
    },
    {
     "data": {
      "text/plain": [
       "id           0\n",
       "age          0\n",
       "job          0\n",
       "marital      0\n",
       "education    0\n",
       "default      0\n",
       "balance      0\n",
       "housing      0\n",
       "loan         0\n",
       "contact      0\n",
       "day          0\n",
       "month        0\n",
       "duration     0\n",
       "campaign     0\n",
       "pdays        0\n",
       "previous     0\n",
       "poutcome     0\n",
       "y            0\n",
       "dtype: int64"
      ]
     },
     "execution_count": 3,
     "metadata": {},
     "output_type": "execute_result"
    }
   ],
   "source": [
    "train.info()\n",
    "train.isnull().sum()"
   ]
  },
  {
   "cell_type": "code",
   "execution_count": 4,
   "id": "da7561f8",
   "metadata": {
    "execution": {
     "iopub.execute_input": "2025-09-05T13:28:01.103303Z",
     "iopub.status.busy": "2025-09-05T13:28:01.102960Z",
     "iopub.status.idle": "2025-09-05T13:28:01.195153Z",
     "shell.execute_reply": "2025-09-05T13:28:01.194160Z"
    },
    "papermill": {
     "duration": 0.098529,
     "end_time": "2025-09-05T13:28:01.197133",
     "exception": false,
     "start_time": "2025-09-05T13:28:01.098604",
     "status": "completed"
    },
    "tags": []
   },
   "outputs": [],
   "source": [
    "X = train.drop(columns=[\"id\",\"y\"])\n",
    "y = train[\"y\"]\n",
    "X_test = test.drop(columns=[\"id\"])"
   ]
  },
  {
   "cell_type": "code",
   "execution_count": 5,
   "id": "2bd967d9",
   "metadata": {
    "execution": {
     "iopub.execute_input": "2025-09-05T13:28:01.206313Z",
     "iopub.status.busy": "2025-09-05T13:28:01.205281Z",
     "iopub.status.idle": "2025-09-05T13:28:01.212404Z",
     "shell.execute_reply": "2025-09-05T13:28:01.211335Z"
    },
    "papermill": {
     "duration": 0.01363,
     "end_time": "2025-09-05T13:28:01.214203",
     "exception": false,
     "start_time": "2025-09-05T13:28:01.200573",
     "status": "completed"
    },
    "tags": []
   },
   "outputs": [
    {
     "name": "stdout",
     "output_type": "stream",
     "text": [
      "Numeric: ['age', 'balance', 'day', 'duration', 'campaign', 'pdays', 'previous']\n",
      "Ordinal: ['education', 'month']\n",
      "Categorical: ['job', 'marital', 'default', 'housing', 'loan', 'contact', 'poutcome']\n"
     ]
    }
   ],
   "source": [
    "numeric_features = [\"age\",\"balance\",\"day\",\"duration\",\"campaign\",\"pdays\",\"previous\"]\n",
    "ordinal_features = [\"education\",\"month\"]\n",
    "categorical_features = [\"job\",\"marital\",\"default\",\"housing\",\"loan\",\"contact\",\"poutcome\"]\n",
    "\n",
    "print(\"Numeric:\", numeric_features)\n",
    "print(\"Ordinal:\", ordinal_features)\n",
    "print(\"Categorical:\", categorical_features)"
   ]
  },
  {
   "cell_type": "code",
   "execution_count": 6,
   "id": "edadfc1e",
   "metadata": {
    "execution": {
     "iopub.execute_input": "2025-09-05T13:28:01.222848Z",
     "iopub.status.busy": "2025-09-05T13:28:01.222532Z",
     "iopub.status.idle": "2025-09-05T13:28:03.582854Z",
     "shell.execute_reply": "2025-09-05T13:28:03.581854Z"
    },
    "papermill": {
     "duration": 2.367085,
     "end_time": "2025-09-05T13:28:03.584807",
     "exception": false,
     "start_time": "2025-09-05T13:28:01.217722",
     "status": "completed"
    },
    "tags": []
   },
   "outputs": [],
   "source": [
    "from sklearn.model_selection import train_test_split\n",
    "from sklearn.preprocessing import OrdinalEncoder\n",
    "from sklearn.ensemble import RandomForestClassifier\n",
    "from sklearn.metrics import roc_auc_score"
   ]
  },
  {
   "cell_type": "code",
   "execution_count": 7,
   "id": "d4f30653",
   "metadata": {
    "execution": {
     "iopub.execute_input": "2025-09-05T13:28:03.593247Z",
     "iopub.status.busy": "2025-09-05T13:28:03.592730Z",
     "iopub.status.idle": "2025-09-05T13:28:04.044525Z",
     "shell.execute_reply": "2025-09-05T13:28:04.043572Z"
    },
    "papermill": {
     "duration": 0.45785,
     "end_time": "2025-09-05T13:28:04.046278",
     "exception": false,
     "start_time": "2025-09-05T13:28:03.588428",
     "status": "completed"
    },
    "tags": []
   },
   "outputs": [],
   "source": [
    "ordinal_mapping = {\n",
    "    \"education\": [\"unknown\",\"primary\",\"secondary\",\"tertiary\"],\n",
    "    \"month\": [\"jan\",\"feb\",\"mar\",\"apr\",\"may\",\"jun\",\"jul\",\"aug\",\"sep\",\"oct\",\"nov\",\"dec\"]\n",
    "}\n",
    "\n",
    "for col, categories in ordinal_mapping.items():\n",
    "    encoder = OrdinalEncoder(categories=[categories])\n",
    "    X[col] = encoder.fit_transform(X[[col]])\n",
    "    X_test[col] = encoder.transform(X_test[[col]])\n"
   ]
  },
  {
   "cell_type": "code",
   "execution_count": 8,
   "id": "f66d4d56",
   "metadata": {
    "execution": {
     "iopub.execute_input": "2025-09-05T13:28:04.054602Z",
     "iopub.status.busy": "2025-09-05T13:28:04.054166Z",
     "iopub.status.idle": "2025-09-05T13:28:04.735297Z",
     "shell.execute_reply": "2025-09-05T13:28:04.734175Z"
    },
    "papermill": {
     "duration": 0.68727,
     "end_time": "2025-09-05T13:28:04.737037",
     "exception": false,
     "start_time": "2025-09-05T13:28:04.049767",
     "status": "completed"
    },
    "tags": []
   },
   "outputs": [],
   "source": [
    "X = pd.get_dummies(X, columns=categorical_features)\n",
    "X_test = pd.get_dummies(X_test, columns=categorical_features)\n",
    "\n",
    "X, X_test = X.align(X_test, join=\"left\", axis=1, fill_value=0)"
   ]
  },
  {
   "cell_type": "code",
   "execution_count": 9,
   "id": "d180e064",
   "metadata": {
    "execution": {
     "iopub.execute_input": "2025-09-05T13:28:04.745165Z",
     "iopub.status.busy": "2025-09-05T13:28:04.744831Z",
     "iopub.status.idle": "2025-09-05T13:28:05.163939Z",
     "shell.execute_reply": "2025-09-05T13:28:05.162987Z"
    },
    "papermill": {
     "duration": 0.42504,
     "end_time": "2025-09-05T13:28:05.165726",
     "exception": false,
     "start_time": "2025-09-05T13:28:04.740686",
     "status": "completed"
    },
    "tags": []
   },
   "outputs": [],
   "source": [
    "X_train, X_val, y_train, y_val = train_test_split(X, y, test_size=0.2, random_state=42, stratify=y)\n"
   ]
  },
  {
   "cell_type": "code",
   "execution_count": 10,
   "id": "c8ad50a1",
   "metadata": {
    "execution": {
     "iopub.execute_input": "2025-09-05T13:28:05.174082Z",
     "iopub.status.busy": "2025-09-05T13:28:05.173732Z",
     "iopub.status.idle": "2025-09-05T13:29:57.863746Z",
     "shell.execute_reply": "2025-09-05T13:29:57.862768Z"
    },
    "papermill": {
     "duration": 112.699255,
     "end_time": "2025-09-05T13:29:57.868609",
     "exception": false,
     "start_time": "2025-09-05T13:28:05.169354",
     "status": "completed"
    },
    "tags": []
   },
   "outputs": [
    {
     "data": {
      "text/html": [
       "<style>#sk-container-id-1 {color: black;background-color: white;}#sk-container-id-1 pre{padding: 0;}#sk-container-id-1 div.sk-toggleable {background-color: white;}#sk-container-id-1 label.sk-toggleable__label {cursor: pointer;display: block;width: 100%;margin-bottom: 0;padding: 0.3em;box-sizing: border-box;text-align: center;}#sk-container-id-1 label.sk-toggleable__label-arrow:before {content: \"▸\";float: left;margin-right: 0.25em;color: #696969;}#sk-container-id-1 label.sk-toggleable__label-arrow:hover:before {color: black;}#sk-container-id-1 div.sk-estimator:hover label.sk-toggleable__label-arrow:before {color: black;}#sk-container-id-1 div.sk-toggleable__content {max-height: 0;max-width: 0;overflow: hidden;text-align: left;background-color: #f0f8ff;}#sk-container-id-1 div.sk-toggleable__content pre {margin: 0.2em;color: black;border-radius: 0.25em;background-color: #f0f8ff;}#sk-container-id-1 input.sk-toggleable__control:checked~div.sk-toggleable__content {max-height: 200px;max-width: 100%;overflow: auto;}#sk-container-id-1 input.sk-toggleable__control:checked~label.sk-toggleable__label-arrow:before {content: \"▾\";}#sk-container-id-1 div.sk-estimator input.sk-toggleable__control:checked~label.sk-toggleable__label {background-color: #d4ebff;}#sk-container-id-1 div.sk-label input.sk-toggleable__control:checked~label.sk-toggleable__label {background-color: #d4ebff;}#sk-container-id-1 input.sk-hidden--visually {border: 0;clip: rect(1px 1px 1px 1px);clip: rect(1px, 1px, 1px, 1px);height: 1px;margin: -1px;overflow: hidden;padding: 0;position: absolute;width: 1px;}#sk-container-id-1 div.sk-estimator {font-family: monospace;background-color: #f0f8ff;border: 1px dotted black;border-radius: 0.25em;box-sizing: border-box;margin-bottom: 0.5em;}#sk-container-id-1 div.sk-estimator:hover {background-color: #d4ebff;}#sk-container-id-1 div.sk-parallel-item::after {content: \"\";width: 100%;border-bottom: 1px solid gray;flex-grow: 1;}#sk-container-id-1 div.sk-label:hover label.sk-toggleable__label {background-color: #d4ebff;}#sk-container-id-1 div.sk-serial::before {content: \"\";position: absolute;border-left: 1px solid gray;box-sizing: border-box;top: 0;bottom: 0;left: 50%;z-index: 0;}#sk-container-id-1 div.sk-serial {display: flex;flex-direction: column;align-items: center;background-color: white;padding-right: 0.2em;padding-left: 0.2em;position: relative;}#sk-container-id-1 div.sk-item {position: relative;z-index: 1;}#sk-container-id-1 div.sk-parallel {display: flex;align-items: stretch;justify-content: center;background-color: white;position: relative;}#sk-container-id-1 div.sk-item::before, #sk-container-id-1 div.sk-parallel-item::before {content: \"\";position: absolute;border-left: 1px solid gray;box-sizing: border-box;top: 0;bottom: 0;left: 50%;z-index: -1;}#sk-container-id-1 div.sk-parallel-item {display: flex;flex-direction: column;z-index: 1;position: relative;background-color: white;}#sk-container-id-1 div.sk-parallel-item:first-child::after {align-self: flex-end;width: 50%;}#sk-container-id-1 div.sk-parallel-item:last-child::after {align-self: flex-start;width: 50%;}#sk-container-id-1 div.sk-parallel-item:only-child::after {width: 0;}#sk-container-id-1 div.sk-dashed-wrapped {border: 1px dashed gray;margin: 0 0.4em 0.5em 0.4em;box-sizing: border-box;padding-bottom: 0.4em;background-color: white;}#sk-container-id-1 div.sk-label label {font-family: monospace;font-weight: bold;display: inline-block;line-height: 1.2em;}#sk-container-id-1 div.sk-label-container {text-align: center;}#sk-container-id-1 div.sk-container {/* jupyter's `normalize.less` sets `[hidden] { display: none; }` but bootstrap.min.css set `[hidden] { display: none !important; }` so we also need the `!important` here to be able to override the default hidden behavior on the sphinx rendered scikit-learn.org. See: https://github.com/scikit-learn/scikit-learn/issues/21755 */display: inline-block !important;position: relative;}#sk-container-id-1 div.sk-text-repr-fallback {display: none;}</style><div id=\"sk-container-id-1\" class=\"sk-top-container\"><div class=\"sk-text-repr-fallback\"><pre>RandomForestClassifier(max_depth=12, n_estimators=300, n_jobs=-1,\n",
       "                       random_state=42)</pre><b>In a Jupyter environment, please rerun this cell to show the HTML representation or trust the notebook. <br />On GitHub, the HTML representation is unable to render, please try loading this page with nbviewer.org.</b></div><div class=\"sk-container\" hidden><div class=\"sk-item\"><div class=\"sk-estimator sk-toggleable\"><input class=\"sk-toggleable__control sk-hidden--visually\" id=\"sk-estimator-id-1\" type=\"checkbox\" checked><label for=\"sk-estimator-id-1\" class=\"sk-toggleable__label sk-toggleable__label-arrow\">RandomForestClassifier</label><div class=\"sk-toggleable__content\"><pre>RandomForestClassifier(max_depth=12, n_estimators=300, n_jobs=-1,\n",
       "                       random_state=42)</pre></div></div></div></div></div>"
      ],
      "text/plain": [
       "RandomForestClassifier(max_depth=12, n_estimators=300, n_jobs=-1,\n",
       "                       random_state=42)"
      ]
     },
     "execution_count": 10,
     "metadata": {},
     "output_type": "execute_result"
    }
   ],
   "source": [
    "model = RandomForestClassifier(\n",
    "    n_estimators=300,\n",
    "    max_depth=12,\n",
    "    random_state=42,\n",
    "    n_jobs=-1\n",
    ")\n",
    "model.fit(X_train, y_train)"
   ]
  },
  {
   "cell_type": "code",
   "execution_count": 11,
   "id": "721d50d7",
   "metadata": {
    "execution": {
     "iopub.execute_input": "2025-09-05T13:29:57.878649Z",
     "iopub.status.busy": "2025-09-05T13:29:57.878307Z",
     "iopub.status.idle": "2025-09-05T13:30:00.537777Z",
     "shell.execute_reply": "2025-09-05T13:30:00.536735Z"
    },
    "papermill": {
     "duration": 2.667557,
     "end_time": "2025-09-05T13:30:00.540086",
     "exception": false,
     "start_time": "2025-09-05T13:29:57.872529",
     "status": "completed"
    },
    "tags": []
   },
   "outputs": [
    {
     "name": "stdout",
     "output_type": "stream",
     "text": [
      "Validation ROC AUC: 0.9569839399397108\n"
     ]
    }
   ],
   "source": [
    "y_val_pred = model.predict_proba(X_val)[:,1]\n",
    "roc_auc = roc_auc_score(y_val, y_val_pred)\n",
    "print(\"Validation ROC AUC:\", roc_auc)"
   ]
  },
  {
   "cell_type": "code",
   "execution_count": 12,
   "id": "3bba2e49",
   "metadata": {
    "execution": {
     "iopub.execute_input": "2025-09-05T13:30:00.548993Z",
     "iopub.status.busy": "2025-09-05T13:30:00.548666Z",
     "iopub.status.idle": "2025-09-05T13:32:37.981230Z",
     "shell.execute_reply": "2025-09-05T13:32:37.980152Z"
    },
    "papermill": {
     "duration": 157.442078,
     "end_time": "2025-09-05T13:32:37.985896",
     "exception": false,
     "start_time": "2025-09-05T13:30:00.543818",
     "status": "completed"
    },
    "tags": []
   },
   "outputs": [
    {
     "name": "stdout",
     "output_type": "stream",
     "text": [
      " submission.csv ready for Kaggle!\n"
     ]
    }
   ],
   "source": [
    "model.fit(X, y) \n",
    "y_test_pred = model.predict_proba(X_test)[:,1]\n",
    "\n",
    "submission = pd.DataFrame({\n",
    "    \"id\": test[\"id\"],\n",
    "    \"y\": y_test_pred\n",
    "})\n",
    "\n",
    "submission.to_csv(\"submission.csv\", index=False)\n",
    "print(\" submission.csv ready for Kaggle!\")"
   ]
  },
  {
   "cell_type": "code",
   "execution_count": null,
   "id": "e52aee7d",
   "metadata": {
    "papermill": {
     "duration": 0.003762,
     "end_time": "2025-09-05T13:32:37.994204",
     "exception": false,
     "start_time": "2025-09-05T13:32:37.990442",
     "status": "completed"
    },
    "tags": []
   },
   "outputs": [],
   "source": []
  }
 ],
 "metadata": {
  "kaggle": {
   "accelerator": "none",
   "dataSources": [
    {
     "databundleVersionId": 12937777,
     "sourceId": 91719,
     "sourceType": "competition"
    }
   ],
   "dockerImageVersionId": 31089,
   "isGpuEnabled": false,
   "isInternetEnabled": true,
   "language": "python",
   "sourceType": "notebook"
  },
  "kernelspec": {
   "display_name": "Python 3",
   "language": "python",
   "name": "python3"
  },
  "language_info": {
   "codemirror_mode": {
    "name": "ipython",
    "version": 3
   },
   "file_extension": ".py",
   "mimetype": "text/x-python",
   "name": "python",
   "nbconvert_exporter": "python",
   "pygments_lexer": "ipython3",
   "version": "3.11.13"
  },
  "papermill": {
   "default_parameters": {},
   "duration": 289.717046,
   "end_time": "2025-09-05T13:32:38.719411",
   "environment_variables": {},
   "exception": null,
   "input_path": "__notebook__.ipynb",
   "output_path": "__notebook__.ipynb",
   "parameters": {},
   "start_time": "2025-09-05T13:27:49.002365",
   "version": "2.6.0"
  }
 },
 "nbformat": 4,
 "nbformat_minor": 5
}
